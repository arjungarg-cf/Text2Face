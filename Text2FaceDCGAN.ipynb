{
  "nbformat": 4,
  "nbformat_minor": 0,
  "metadata": {
    "colab": {
      "name": "T2FDCGAN.ipynb",
      "provenance": [],
      "collapsed_sections": []
    },
    "kernelspec": {
      "name": "python3",
      "display_name": "Python 3"
    },
    "accelerator": "GPU"
  },
  "cells": [
    {
      "cell_type": "code",
      "metadata": {
        "id": "cuCwvbW1-Tpg",
        "colab": {
          "base_uri": "https://localhost:8080/",
          "height": 34
        },
        "outputId": "1f7f4587-1fc2-49df-f910-8c50cdab8157"
      },
      "source": [
        "from google.colab import drive\n",
        "drive.mount('/content/drive')"
      ],
      "execution_count": null,
      "outputs": [
        {
          "output_type": "stream",
          "text": [
            "Drive already mounted at /content/drive; to attempt to forcibly remount, call drive.mount(\"/content/drive\", force_remount=True).\n"
          ],
          "name": "stdout"
        }
      ]
    },
    {
      "cell_type": "code",
      "metadata": {
        "id": "3xR9X8Lm75G4",
        "outputId": "6ca979ff-5302-4739-e419-2fd461b1c5e8",
        "colab": {
          "base_uri": "https://localhost:8080/",
          "height": 221
        }
      },
      "source": [
        "%cd drive/My\\ Drive/DL/project\n",
        "!ls"
      ],
      "execution_count": null,
      "outputs": [
        {
          "output_type": "stream",
          "text": [
            "/content/drive/My Drive/DL/project\n",
            "50\t\t cifar-10\t      skipthoughts.py\n",
            "60\t\t cookies.txt\t      skipthought_vectors.pkl\n",
            "75\t\t dictionary.txt       skipthought_vectors_test.pkl\n",
            "ArjunData\t facenet_keras.h5     snapshots\n",
            "bi_skip.npz\t image_names.txt      test_data.h5\n",
            "bi_skip.npz.pkl  init.py\t      test_img_names.pkl\n",
            "btable.npy\t losses_list_2400.h5  train_data.h5\n",
            "caps.json\t losses_list_4800.h5  train_img_names_1.pkl\n",
            "captions.txt\t models\t\t      uni_skip.npz\n",
            "celeba\t\t __pycache__\t      uni_skip.npz.pkl\n",
            "celeba.zip\t Refrences.gdoc       utable.npy\n"
          ],
          "name": "stdout"
        }
      ]
    },
    {
      "cell_type": "code",
      "metadata": {
        "id": "9bh3Ybe28oHt",
        "outputId": "bf4fb03a-6a49-4408-e738-90e3b9471ce9",
        "colab": {
          "base_uri": "https://localhost:8080/",
          "height": 85
        }
      },
      "source": [
        "import os\n",
        "import sys\n",
        "import numpy as np\n",
        "from random import shuffle\n",
        "import tensorflow as tf\n",
        "from keras.preprocessing.image import img_to_array,load_img\n",
        "from PIL import Image\n",
        "import math\n",
        "import random\n",
        "from collections import Counter\n",
        "import nltk\n",
        "import json\n",
        "import h5py\n",
        "import pickle\n",
        "import skipthoughts\n",
        "import re\n",
        "import urllib.request\n",
        "from mpl_toolkits.axes_grid1 import ImageGrid\n",
        "import zipfile\n",
        "from keras.models import Model,Sequential\n",
        "from keras.layers import Input,Dense,Reshape,concatenate,Flatten,Lambda,LeakyReLU\n",
        "from keras.layers.core import Activation\n",
        "from keras.layers.normalization import BatchNormalization\n",
        "from keras.layers.convolutional import UpSampling2D,Conv2D,MaxPooling2D,Conv2DTranspose\n",
        "from keras.optimizers import Adam\n",
        "from keras.initializers import TruncatedNormal,Zeros,RandomNormal,Constant\n",
        "from keras import backend as K\n",
        "import matplotlib.gridspec as gridspec\n",
        "import matplotlib.pyplot as plt\n",
        "import time\n",
        "import cv2\n",
        "from keras.models import load_model\n",
        "from scipy import spatial\n",
        "nltk.download('punkt')\n",
        "print(\"GPU:\",tf.test.gpu_device_name(),\"TF version:\",tf.__version__)"
      ],
      "execution_count": null,
      "outputs": [
        {
          "output_type": "stream",
          "text": [
            "Using TensorFlow backend.\n"
          ],
          "name": "stderr"
        },
        {
          "output_type": "stream",
          "text": [
            "[nltk_data] Downloading package punkt to /root/nltk_data...\n",
            "[nltk_data]   Package punkt is already up-to-date!\n",
            "GPU: /device:GPU:0 TF version: 2.2.0\n"
          ],
          "name": "stdout"
        }
      ]
    },
    {
      "cell_type": "code",
      "metadata": {
        "id": "TIWQSFci3Dfu"
      },
      "source": [
        "def plot_batch(generated_images,model_name,epoch,batch_idx,snapshot_dir_path,text_dim):\n",
        "    fig=plt.figure(1)\n",
        "    grid=ImageGrid(fig,111,nrows_ncols=(2,8),axes_pad=0.05)\n",
        "    size=2*8\n",
        "    for i in range(size):\n",
        "        grid[i].axis('off')\n",
        "        grid[i].imshow((generated_images[i]*255).astype(np.uint8))\n",
        "    plt.savefig(os.path.join(snapshot_dir_path,model_name+'-'+str(text_dim)+'-'+str(epoch)+'-'+str(batch_idx)+'.png'))\n",
        "\n",
        "def img_from_normalised_img(normalised_img):\n",
        "    image=normalised_img.astype(float)*255\n",
        "    image=image.astype('uint8')\n",
        "    return image\n",
        "\n",
        "def load_normalised_img_and_cap(json_file_path,skipthought_dim):\n",
        "    train_imgs=h5py.File('./train_data.h5','r')\n",
        "    imgs=train_imgs['imgs']\n",
        "    imgs=np.array(imgs)\n",
        "    print(imgs.shape)\n",
        "    names_in=open('./train_img_names_1.pkl','rb')\n",
        "    names=pickle.load(names_in)\n",
        "    \n",
        "    with open(json_file_path,'r') as j:\n",
        "        caps=json.loads(j.read())\n",
        "    \n",
        "    captions=[]\n",
        "    for i in range(len(names)):\n",
        "        captions.append(caps[names[i]])\n",
        "    \n",
        "    if not os.path.exists('./skipthought_vectors.pkl'):\n",
        "        model=skipthoughts.load_model()\n",
        "        vectors=skipthoughts.encode(model,captions)\n",
        "        with open('skipthought_vectors.pkl','wb') as f:\n",
        "            pickle.dump(vectors,f)\n",
        "    else:\n",
        "        with open('skipthought_vectors.pkl','rb') as f:\n",
        "            vectors=pickle.load(f)\n",
        "    if skipthought_dim!=4800:\n",
        "        vectors=vectors[:,:2400]\n",
        "\n",
        "    result=[]\n",
        "    for i in range(len(imgs)):\n",
        "        result.append([imgs[i],vectors[i],names[i]])\n",
        "    \n",
        "    return np.array(result)\n",
        "\n",
        "def resize(img,input_shape):\n",
        "  height,width=input_shape\n",
        "  return cv2.resize(img,(width,height))"
      ],
      "execution_count": null,
      "outputs": []
    },
    {
      "cell_type": "code",
      "metadata": {
        "id": "2OGquMH-DDC3"
      },
      "source": [
        "class DCGan(object):\n",
        "    def __init__(self):\n",
        "        self.generator=None\n",
        "        self.discriminator=None\n",
        "        self.model=None\n",
        "        self.img_width=7\n",
        "        self.img_height=7\n",
        "        self.img_channels=1\n",
        "        self.text_input_dim=4800\n",
        "        self.random_input_dim=100\n",
        "        self.model_dir_path=None\n",
        "        self.model_name='dc_gan'\n",
        "        self.config=None\n",
        "    \n",
        "    def get_config_file_path(self,model_dir_path):\n",
        "        return os.path.join(self.model_dir_path,self.model_name+str(self.text_input_dim)+'-config.npy')\n",
        "    \n",
        "    def get_weight_file_path(self,model_dir_path,model_type):\n",
        "        return os.path.join(self.model_dir_path,self.model_name+'-'+model_type+str(self.text_input_dim)+'-weights.h5')\n",
        "    \n",
        "    def create_model(self):\n",
        "        init_img_width=4\n",
        "        init_img_height=4\n",
        "\n",
        "        random_input=Input((self.random_input_dim,))\n",
        "        text_input1=Input((self.text_input_dim,))\n",
        "        text_layer1=Dense(256,kernel_initializer=RandomNormal(stddev=0.02),bias_initializer=Constant(value=0))(text_input1)\n",
        "        text_layer1=LeakyReLU(alpha=0.2)(text_layer1)\n",
        "\n",
        "        merged=concatenate([random_input,text_layer1])\n",
        "\n",
        "        generator_layer=Dense(512*init_img_width*init_img_height,kernel_initializer=RandomNormal(stddev=0.02),bias_initializer=Constant(value=0))(merged)\n",
        "        generator_layer=Reshape((init_img_height,init_img_width,512),input_shape=(128*init_img_width*init_img_height,))(generator_layer)\n",
        "        generator_layer=BatchNormalization()(generator_layer)\n",
        "        generator_layer=LeakyReLU(0.2)(generator_layer)\n",
        "\n",
        "        generator_layer=Conv2DTranspose(256,kernel_size=5,strides=(2,2),padding='same',kernel_initializer=RandomNormal(stddev=0.02),bias_initializer=Constant(value=0))(generator_layer)\n",
        "        generator_layer=BatchNormalization()(generator_layer)\n",
        "        generator_layer=LeakyReLU(0.2)(generator_layer)\n",
        "\n",
        "        generator_layer=Conv2DTranspose(128,kernel_size=5,strides=(2,2),padding='same',kernel_initializer=RandomNormal(stddev=0.02),bias_initializer=Constant(value=0))(generator_layer)\n",
        "        generator_layer=BatchNormalization()(generator_layer)\n",
        "        generator_layer=LeakyReLU(0.2)(generator_layer)\n",
        "\n",
        "        generator_layer=Conv2DTranspose(64,kernel_size=5,strides=(2,2),padding='same',kernel_initializer=RandomNormal(stddev=0.02),bias_initializer=Constant(value=0))(generator_layer)\n",
        "        generator_layer=BatchNormalization()(generator_layer)\n",
        "        generator_layer=LeakyReLU(0.2)(generator_layer)\n",
        "\n",
        "        generator_layer=Conv2DTranspose(self.img_channels,kernel_size=5,strides=(2,2),padding='same',kernel_initializer=RandomNormal(stddev=0.02),bias_initializer=Constant(value=0))(generator_layer)\n",
        "        generator_layer=Activation('tanh')(generator_layer)\n",
        "\n",
        "        generator_layer=Lambda(lambda x:x/2.)(generator_layer)\n",
        "        generator_output=Lambda(lambda x:x+0.5)(generator_layer)\n",
        "\n",
        "        self.generator=Model([random_input,text_input1],generator_output)\n",
        "        g_optim=Adam(lr=0.0002,beta_1=0.5)\n",
        "\n",
        "        self.generator.compile(loss='binary_crossentropy',optimizer=g_optim)\n",
        "        self.generator.summary()\n",
        "        print()\n",
        "\n",
        "        #discriminator\n",
        "        text_input2=Input((self.text_input_dim,))\n",
        "        text_layer2=Dense(256,kernel_initializer=RandomNormal(stddev=0.02),bias_initializer=Constant(value=0))(text_input2)\n",
        "\n",
        "        img_input2=Input((self.img_height,self.img_width,self.img_channels))\n",
        "\n",
        "        img_layer2=Conv2D(64,kernel_size=5,padding='same',strides=(2,2),kernel_initializer=TruncatedNormal(stddev=0.02),bias_initializer=Constant(value=0))(img_input2)\n",
        "        img_layer2=LeakyReLU(alpha=0.2)(img_layer2)\n",
        "\n",
        "        img_layer2=Conv2D(128,kernel_size=5,padding='same',strides=(2,2),kernel_initializer=TruncatedNormal(stddev=0.02),bias_initializer=Constant(value=0))(img_layer2)\n",
        "        img_layer2=BatchNormalization()(img_layer2)\n",
        "        img_layer2=LeakyReLU(alpha=0.2)(img_layer2)\n",
        "\n",
        "        img_layer2=Conv2D(256,kernel_size=5,padding='same',strides=(2,2),kernel_initializer=TruncatedNormal(stddev=0.02),bias_initializer=Constant(value=0))(img_layer2)\n",
        "        img_layer2=BatchNormalization()(img_layer2)\n",
        "        img_layer2=LeakyReLU(alpha=0.2)(img_layer2)\n",
        "        \n",
        "        img_layer2=Conv2D(512,kernel_size=5,padding='same',strides=(2,2),kernel_initializer=TruncatedNormal(stddev=0.02),bias_initializer=Constant(value=0))(img_layer2)\n",
        "        img_layer2=BatchNormalization()(img_layer2)\n",
        "        img_layer2=LeakyReLU(alpha=0.2)(img_layer2)\n",
        "\n",
        "        text_layer2=Lambda(K.expand_dims,arguments={'axis':1})(text_layer2)\n",
        "        text_layer2=Lambda(K.expand_dims,arguments={'axis':2})(text_layer2)\n",
        "        text_layer2=Lambda(K.tile,arguments={'n':(1,4,4,1)})(text_layer2)\n",
        "\n",
        "        img_layer2=concatenate([img_layer2,text_layer2],axis=3)\n",
        "        \n",
        "        img_layer2=Conv2D(512,kernel_size=5,padding='same',strides=(1,1),kernel_initializer=TruncatedNormal(stddev=0.02),bias_initializer=Constant(value=0))(img_layer2)\n",
        "        img_layer2=BatchNormalization()(img_layer2)\n",
        "        img_layer2=LeakyReLU(alpha=0.2)(img_layer2)\n",
        "\n",
        "        img_layer2=Flatten()(img_layer2)\n",
        "\n",
        "        discriminator_layer=Dense(1,kernel_initializer=RandomNormal(stddev=0.02),bias_initializer=Constant(value=0))(img_layer2)\n",
        "        discriminator_output=Activation('sigmoid')(discriminator_layer)\n",
        "\n",
        "        self.discriminator=Model([img_input2,text_input2],discriminator_output)\n",
        "        d_optim=Adam(learning_rate=0.0001,beta_1=0.5)\n",
        "        self.discriminator.compile(loss='binary_crossentropy',optimizer=d_optim)\n",
        "        self.discriminator.summary()\n",
        "        print()\n",
        "\n",
        "        self.discriminator.trainable=False\n",
        "        model_output=self.discriminator([self.generator.output,text_input1])\n",
        "\n",
        "        self.model=Model([random_input,text_input1],model_output)\n",
        "\n",
        "        self.model.compile(loss='binary_crossentropy',optimizer=g_optim)\n",
        "        self.model.summary()\n",
        "    \n",
        "    def load_batch(self,batch_idx,batch_size,image_label_pairs):\n",
        "        image_label_pair_batch=image_label_pairs[batch_idx*batch_size:(batch_idx+1)*batch_size]\n",
        "        image_files_batch=[]\n",
        "        real_image_batch=np.zeros((batch_size,self.img_height,self.img_width,self.img_channels))\n",
        "        wrong_images_batch=np.zeros((batch_size,self.img_height,self.img_width,self.img_channels))\n",
        "        noise=np.zeros((batch_size,self.random_input_dim))\n",
        "        skipthought_batch=np.zeros((batch_size,self.text_input_dim))\n",
        "\n",
        "        for i in range(batch_size):\n",
        "            normalised_img=image_label_pair_batch[i][0]\n",
        "            real_image_batch[i,:,:,:]=normalised_img\n",
        "\n",
        "            idx=random.randint(0,len(image_label_pairs)-1)\n",
        "            wrong_img=image_label_pairs[idx][0]\n",
        "            wrong_images_batch[i,:,:,:]=wrong_img\n",
        "\n",
        "            skipthought_batch[i,:]=image_label_pair_batch[i][1]\n",
        "            noise[i,:]=np.random.uniform(-1,1,self.random_input_dim)\n",
        "            image_files_batch.append(image_label_pairs[i][2])\n",
        "        \n",
        "        return real_image_batch,noise,skipthought_batch,wrong_images_batch,image_files_batch\n",
        "        \n",
        "    def fit(self,image_label_pairs,epochs=None,batch_size=None,snapshot_dir_path=None):\n",
        "        if epochs is None:\n",
        "            epochs=100\n",
        "        \n",
        "        if batch_size is None:\n",
        "            batch_size=64\n",
        "        \n",
        "        self.config=dict()\n",
        "        self.config['img_width']=self.img_width\n",
        "        self.config['img_height']=self.img_height\n",
        "        self.config['random_input_dim']=self.random_input_dim\n",
        "        self.config['text_input_dim']=self.text_input_dim\n",
        "        self.config['img_channels']=self.img_channels\n",
        "\n",
        "        config_file_path=self.get_config_file_path(self.model_dir_path)\n",
        "\n",
        "        np.save(config_file_path,self.config)\n",
        "\n",
        "        n_batches=image_label_pairs.shape[0]//batch_size\n",
        "        d_loss_list=[]\n",
        "        g_loss_list=[]\n",
        "\n",
        "        for epoch in range(epochs):\n",
        "            epoch_d_loss=0\n",
        "            epoch_g_loss=0\n",
        "            start=time.time()\n",
        "            for batch_idx in range(n_batches):\n",
        "                real_images_batch,noise,skipthought_batch,wrong_images_batch,image_files_batch=self.load_batch(batch_idx,batch_size,image_label_pairs)\n",
        "\n",
        "                fake_images_batch=self.generator.predict([noise,skipthought_batch],verbose=0)\n",
        "\n",
        "                self.discriminator.trainable=True\n",
        "                if (batch_idx+1)%4==0:\n",
        "                    d_loss1=self.discriminator.train_on_batch([fake_images_batch,skipthought_batch],np.array([1]*batch_size))\n",
        "                    d_loss2=self.discriminator.train_on_batch([wrong_images_batch,skipthought_batch],np.array([0]*batch_size))\n",
        "                    d_loss3=self.discriminator.train_on_batch([real_images_batch,skipthought_batch],np.array([0]*batch_size))\n",
        "                \n",
        "                else:\n",
        "                    d_loss1=self.discriminator.train_on_batch([real_images_batch,skipthought_batch],np.array([1]*batch_size))\n",
        "                    d_loss2=self.discriminator.train_on_batch([wrong_images_batch,skipthought_batch],np.array([0]*batch_size))\n",
        "                    d_loss3=self.discriminator.train_on_batch([fake_images_batch,skipthought_batch],np.array([0]*batch_size))\n",
        "                self.discriminator.trainable=False\n",
        "\n",
        "                d_loss=d_loss1+0.5*(d_loss2+d_loss3)\n",
        "                \n",
        "                g_loss=self.model.train_on_batch([noise,skipthought_batch],np.array([1]*batch_size))\n",
        "\n",
        "                epoch_d_loss+=d_loss\n",
        "                epoch_g_loss+=g_loss\n",
        "\n",
        "                if (batch_idx+1)%100==0 and snapshot_dir_path is not None:\n",
        "                    generated_images=self.generator.predict([noise,skipthought_batch],verbose=0)\n",
        "                    self.save_snapshots(generated_images,snapshot_dir_path=snapshot_dir_path,epoch=epoch,batch_idx=batch_idx)\n",
        "\n",
        "            d_loss_list.append(epoch_d_loss/n_batches)\n",
        "            g_loss_list.append(epoch_g_loss/n_batches)\n",
        "            print('Epoch: '+str(epoch+1)+'/'+str(epochs)+' epoch_duration: '+str(time.time()-start)+' discriminator_loss: '+str(epoch_d_loss/n_batches)+' generator_loss: '+str(epoch_g_loss/n_batches))\n",
        "            if (epoch+1)%5==0 or (epoch+1)==epochs:\n",
        "                self.generator.save_weights(self.get_weight_file_path(self.model_dir_path,'generator'),True)\n",
        "                self.discriminator.save_weights(self.get_weight_file_path(self.model_dir_path,'discriminator'),True)\n",
        "                with h5py.File('losses_list_'+str(self.text_input_dim)+'.h5','w') as out:\n",
        "                    out.create_dataset(\"discriminator\",data=np.array(d_loss_list))\n",
        "                    out.create_dataset(\"generator\",data=np.array(g_loss_list))\n",
        "    \n",
        "    def generate_image_from_text(self,caption,skipthought_model):\n",
        "        encoded_text=skipthoughts.encode(skipthought_model,caption)\n",
        "        noise=np.random.uniform(-1,1,self.random_input_dim)\n",
        "        noise=np.expand_dims(noise,axis=0)\n",
        "        generated_image=self.generator.predict([noise,encoded_text],verbose=0)\n",
        "        print('Caption: '+caption[0])\n",
        "        plt.imshow(generated_image[0])\n",
        "        \n",
        "    def test(self,vectors_batch,batch_size):\n",
        "        noise=np.zeros((batch_size,self.random_input_dim))\n",
        "        for i in range(batch_size):\n",
        "            noise[i,:]=np.random.uniform(-1,1,self.random_input_dim)\n",
        "\n",
        "        generated_images_batch=self.generator.predict([noise,vectors_batch],verbose=0)\n",
        "        return generated_images_batch\n",
        "\n",
        "    def save_snapshots(self,generated_images,snapshot_dir_path,epoch,batch_idx):\n",
        "        plot_batch(generated_images,self.model_name,epoch,batch_idx,snapshot_dir_path,self.text_input_dim)"
      ],
      "execution_count": null,
      "outputs": []
    },
    {
      "cell_type": "code",
      "metadata": {
        "id": "bpGKIrJDek6o"
      },
      "source": [
        "img_width=64\n",
        "img_height=64\n",
        "img_channels=3"
      ],
      "execution_count": null,
      "outputs": []
    },
    {
      "cell_type": "code",
      "metadata": {
        "id": "FoBZMpex9Gwi"
      },
      "source": [
        "seed=2020\n",
        "np.random.seed(seed)\n",
        "model_dir_path=os.getcwd()+'/models'\n",
        "json_file_path=os.getcwd()+'/caps.json'\n",
        "text_embedding_dim=4800"
      ],
      "execution_count": null,
      "outputs": []
    },
    {
      "cell_type": "code",
      "metadata": {
        "id": "K0z8hYft55xp"
      },
      "source": [
        "image_label_pairs=load_normalised_img_and_cap(json_file_path,text_embedding_dim)\n",
        "shuffle(image_label_pairs)"
      ],
      "execution_count": null,
      "outputs": []
    },
    {
      "cell_type": "code",
      "metadata": {
        "id": "O4jvT0oxIiD7",
        "outputId": "54381ff7-ac32-4211-820c-27d592ccfa49",
        "colab": {
          "base_uri": "https://localhost:8080/",
          "height": 1000
        }
      },
      "source": [
        "dcgan=DCGan()\n",
        "dcgan.img_width=img_width\n",
        "dcgan.img_height=img_height\n",
        "dcgan.img_channels=img_channels\n",
        "dcgan.random_input_dim=100\n",
        "dcgan.text_input_dim=text_embedding_dim\n",
        "dcgan.model_dir_path=model_dir_path\n",
        "batch_size=64\n",
        "epochs=110\n",
        "dcgan.create_model()"
      ],
      "execution_count": null,
      "outputs": [
        {
          "output_type": "stream",
          "text": [
            "Model: \"model_1\"\n",
            "__________________________________________________________________________________________________\n",
            "Layer (type)                    Output Shape         Param #     Connected to                     \n",
            "==================================================================================================\n",
            "input_2 (InputLayer)            (None, 4800)         0                                            \n",
            "__________________________________________________________________________________________________\n",
            "dense_1 (Dense)                 (None, 256)          1229056     input_2[0][0]                    \n",
            "__________________________________________________________________________________________________\n",
            "input_1 (InputLayer)            (None, 100)          0                                            \n",
            "__________________________________________________________________________________________________\n",
            "leaky_re_lu_1 (LeakyReLU)       (None, 256)          0           dense_1[0][0]                    \n",
            "__________________________________________________________________________________________________\n",
            "concatenate_1 (Concatenate)     (None, 356)          0           input_1[0][0]                    \n",
            "                                                                 leaky_re_lu_1[0][0]              \n",
            "__________________________________________________________________________________________________\n",
            "dense_2 (Dense)                 (None, 8192)         2924544     concatenate_1[0][0]              \n",
            "__________________________________________________________________________________________________\n",
            "reshape_1 (Reshape)             (None, 4, 4, 512)    0           dense_2[0][0]                    \n",
            "__________________________________________________________________________________________________\n",
            "batch_normalization_1 (BatchNor (None, 4, 4, 512)    2048        reshape_1[0][0]                  \n",
            "__________________________________________________________________________________________________\n",
            "leaky_re_lu_2 (LeakyReLU)       (None, 4, 4, 512)    0           batch_normalization_1[0][0]      \n",
            "__________________________________________________________________________________________________\n",
            "conv2d_transpose_1 (Conv2DTrans (None, 8, 8, 256)    3277056     leaky_re_lu_2[0][0]              \n",
            "__________________________________________________________________________________________________\n",
            "batch_normalization_2 (BatchNor (None, 8, 8, 256)    1024        conv2d_transpose_1[0][0]         \n",
            "__________________________________________________________________________________________________\n",
            "leaky_re_lu_3 (LeakyReLU)       (None, 8, 8, 256)    0           batch_normalization_2[0][0]      \n",
            "__________________________________________________________________________________________________\n",
            "conv2d_transpose_2 (Conv2DTrans (None, 16, 16, 128)  819328      leaky_re_lu_3[0][0]              \n",
            "__________________________________________________________________________________________________\n",
            "batch_normalization_3 (BatchNor (None, 16, 16, 128)  512         conv2d_transpose_2[0][0]         \n",
            "__________________________________________________________________________________________________\n",
            "leaky_re_lu_4 (LeakyReLU)       (None, 16, 16, 128)  0           batch_normalization_3[0][0]      \n",
            "__________________________________________________________________________________________________\n",
            "conv2d_transpose_3 (Conv2DTrans (None, 32, 32, 64)   204864      leaky_re_lu_4[0][0]              \n",
            "__________________________________________________________________________________________________\n",
            "batch_normalization_4 (BatchNor (None, 32, 32, 64)   256         conv2d_transpose_3[0][0]         \n",
            "__________________________________________________________________________________________________\n",
            "leaky_re_lu_5 (LeakyReLU)       (None, 32, 32, 64)   0           batch_normalization_4[0][0]      \n",
            "__________________________________________________________________________________________________\n",
            "conv2d_transpose_4 (Conv2DTrans (None, 64, 64, 3)    4803        leaky_re_lu_5[0][0]              \n",
            "__________________________________________________________________________________________________\n",
            "activation_1 (Activation)       (None, 64, 64, 3)    0           conv2d_transpose_4[0][0]         \n",
            "__________________________________________________________________________________________________\n",
            "lambda_1 (Lambda)               (None, 64, 64, 3)    0           activation_1[0][0]               \n",
            "__________________________________________________________________________________________________\n",
            "lambda_2 (Lambda)               (None, 64, 64, 3)    0           lambda_1[0][0]                   \n",
            "==================================================================================================\n",
            "Total params: 8,463,491\n",
            "Trainable params: 8,461,571\n",
            "Non-trainable params: 1,920\n",
            "__________________________________________________________________________________________________\n",
            "\n",
            "Model: \"model_2\"\n",
            "__________________________________________________________________________________________________\n",
            "Layer (type)                    Output Shape         Param #     Connected to                     \n",
            "==================================================================================================\n",
            "input_4 (InputLayer)            (None, 64, 64, 3)    0                                            \n",
            "__________________________________________________________________________________________________\n",
            "conv2d_1 (Conv2D)               (None, 32, 32, 64)   4864        input_4[0][0]                    \n",
            "__________________________________________________________________________________________________\n",
            "leaky_re_lu_6 (LeakyReLU)       (None, 32, 32, 64)   0           conv2d_1[0][0]                   \n",
            "__________________________________________________________________________________________________\n",
            "conv2d_2 (Conv2D)               (None, 16, 16, 128)  204928      leaky_re_lu_6[0][0]              \n",
            "__________________________________________________________________________________________________\n",
            "batch_normalization_5 (BatchNor (None, 16, 16, 128)  512         conv2d_2[0][0]                   \n",
            "__________________________________________________________________________________________________\n",
            "leaky_re_lu_7 (LeakyReLU)       (None, 16, 16, 128)  0           batch_normalization_5[0][0]      \n",
            "__________________________________________________________________________________________________\n",
            "conv2d_3 (Conv2D)               (None, 8, 8, 256)    819456      leaky_re_lu_7[0][0]              \n",
            "__________________________________________________________________________________________________\n",
            "batch_normalization_6 (BatchNor (None, 8, 8, 256)    1024        conv2d_3[0][0]                   \n",
            "__________________________________________________________________________________________________\n",
            "input_3 (InputLayer)            (None, 4800)         0                                            \n",
            "__________________________________________________________________________________________________\n",
            "leaky_re_lu_8 (LeakyReLU)       (None, 8, 8, 256)    0           batch_normalization_6[0][0]      \n",
            "__________________________________________________________________________________________________\n",
            "dense_3 (Dense)                 (None, 256)          1229056     input_3[0][0]                    \n",
            "__________________________________________________________________________________________________\n",
            "conv2d_4 (Conv2D)               (None, 4, 4, 512)    3277312     leaky_re_lu_8[0][0]              \n",
            "__________________________________________________________________________________________________\n",
            "lambda_3 (Lambda)               (None, 1, 256)       0           dense_3[0][0]                    \n",
            "__________________________________________________________________________________________________\n",
            "batch_normalization_7 (BatchNor (None, 4, 4, 512)    2048        conv2d_4[0][0]                   \n",
            "__________________________________________________________________________________________________\n",
            "lambda_4 (Lambda)               (None, 1, 1, 256)    0           lambda_3[0][0]                   \n",
            "__________________________________________________________________________________________________\n",
            "leaky_re_lu_9 (LeakyReLU)       (None, 4, 4, 512)    0           batch_normalization_7[0][0]      \n",
            "__________________________________________________________________________________________________\n",
            "lambda_5 (Lambda)               (None, 4, 4, 256)    0           lambda_4[0][0]                   \n",
            "__________________________________________________________________________________________________\n",
            "concatenate_2 (Concatenate)     (None, 4, 4, 768)    0           leaky_re_lu_9[0][0]              \n",
            "                                                                 lambda_5[0][0]                   \n",
            "__________________________________________________________________________________________________\n",
            "conv2d_5 (Conv2D)               (None, 4, 4, 512)    9830912     concatenate_2[0][0]              \n",
            "__________________________________________________________________________________________________\n",
            "batch_normalization_8 (BatchNor (None, 4, 4, 512)    2048        conv2d_5[0][0]                   \n",
            "__________________________________________________________________________________________________\n",
            "leaky_re_lu_10 (LeakyReLU)      (None, 4, 4, 512)    0           batch_normalization_8[0][0]      \n",
            "__________________________________________________________________________________________________\n",
            "flatten_1 (Flatten)             (None, 8192)         0           leaky_re_lu_10[0][0]             \n",
            "__________________________________________________________________________________________________\n",
            "dense_4 (Dense)                 (None, 1)            8193        flatten_1[0][0]                  \n",
            "__________________________________________________________________________________________________\n",
            "activation_2 (Activation)       (None, 1)            0           dense_4[0][0]                    \n",
            "==================================================================================================\n",
            "Total params: 15,380,353\n",
            "Trainable params: 15,377,537\n",
            "Non-trainable params: 2,816\n",
            "__________________________________________________________________________________________________\n",
            "\n",
            "Model: \"model_3\"\n",
            "__________________________________________________________________________________________________\n",
            "Layer (type)                    Output Shape         Param #     Connected to                     \n",
            "==================================================================================================\n",
            "input_2 (InputLayer)            (None, 4800)         0                                            \n",
            "__________________________________________________________________________________________________\n",
            "dense_1 (Dense)                 (None, 256)          1229056     input_2[0][0]                    \n",
            "__________________________________________________________________________________________________\n",
            "input_1 (InputLayer)            (None, 100)          0                                            \n",
            "__________________________________________________________________________________________________\n",
            "leaky_re_lu_1 (LeakyReLU)       (None, 256)          0           dense_1[0][0]                    \n",
            "__________________________________________________________________________________________________\n",
            "concatenate_1 (Concatenate)     (None, 356)          0           input_1[0][0]                    \n",
            "                                                                 leaky_re_lu_1[0][0]              \n",
            "__________________________________________________________________________________________________\n",
            "dense_2 (Dense)                 (None, 8192)         2924544     concatenate_1[0][0]              \n",
            "__________________________________________________________________________________________________\n",
            "reshape_1 (Reshape)             (None, 4, 4, 512)    0           dense_2[0][0]                    \n",
            "__________________________________________________________________________________________________\n",
            "batch_normalization_1 (BatchNor (None, 4, 4, 512)    2048        reshape_1[0][0]                  \n",
            "__________________________________________________________________________________________________\n",
            "leaky_re_lu_2 (LeakyReLU)       (None, 4, 4, 512)    0           batch_normalization_1[0][0]      \n",
            "__________________________________________________________________________________________________\n",
            "conv2d_transpose_1 (Conv2DTrans (None, 8, 8, 256)    3277056     leaky_re_lu_2[0][0]              \n",
            "__________________________________________________________________________________________________\n",
            "batch_normalization_2 (BatchNor (None, 8, 8, 256)    1024        conv2d_transpose_1[0][0]         \n",
            "__________________________________________________________________________________________________\n",
            "leaky_re_lu_3 (LeakyReLU)       (None, 8, 8, 256)    0           batch_normalization_2[0][0]      \n",
            "__________________________________________________________________________________________________\n",
            "conv2d_transpose_2 (Conv2DTrans (None, 16, 16, 128)  819328      leaky_re_lu_3[0][0]              \n",
            "__________________________________________________________________________________________________\n",
            "batch_normalization_3 (BatchNor (None, 16, 16, 128)  512         conv2d_transpose_2[0][0]         \n",
            "__________________________________________________________________________________________________\n",
            "leaky_re_lu_4 (LeakyReLU)       (None, 16, 16, 128)  0           batch_normalization_3[0][0]      \n",
            "__________________________________________________________________________________________________\n",
            "conv2d_transpose_3 (Conv2DTrans (None, 32, 32, 64)   204864      leaky_re_lu_4[0][0]              \n",
            "__________________________________________________________________________________________________\n",
            "batch_normalization_4 (BatchNor (None, 32, 32, 64)   256         conv2d_transpose_3[0][0]         \n",
            "__________________________________________________________________________________________________\n",
            "leaky_re_lu_5 (LeakyReLU)       (None, 32, 32, 64)   0           batch_normalization_4[0][0]      \n",
            "__________________________________________________________________________________________________\n",
            "conv2d_transpose_4 (Conv2DTrans (None, 64, 64, 3)    4803        leaky_re_lu_5[0][0]              \n",
            "__________________________________________________________________________________________________\n",
            "activation_1 (Activation)       (None, 64, 64, 3)    0           conv2d_transpose_4[0][0]         \n",
            "__________________________________________________________________________________________________\n",
            "lambda_1 (Lambda)               (None, 64, 64, 3)    0           activation_1[0][0]               \n",
            "__________________________________________________________________________________________________\n",
            "lambda_2 (Lambda)               (None, 64, 64, 3)    0           lambda_1[0][0]                   \n",
            "__________________________________________________________________________________________________\n",
            "model_2 (Model)                 (None, 1)            15380353    lambda_2[0][0]                   \n",
            "                                                                 input_2[0][0]                    \n",
            "==================================================================================================\n",
            "Total params: 23,843,844\n",
            "Trainable params: 8,461,571\n",
            "Non-trainable params: 15,382,273\n",
            "__________________________________________________________________________________________________\n"
          ],
          "name": "stdout"
        }
      ]
    },
    {
      "cell_type": "code",
      "metadata": {
        "id": "JJHKY9rvIk2C",
        "outputId": "8e79840a-c459-4908-a743-4de509d998c2",
        "colab": {
          "base_uri": "https://localhost:8080/",
          "height": 1000
        }
      },
      "source": [
        "with tf.device('/gpu:0'):\n",
        "  dcgan.fit(image_label_pairs=image_label_pairs,snapshot_dir_path=os.getcwd()+'/snapshots/'+str(dcgan.text_input_dim),batch_size=batch_size,epochs=epochs)"
      ],
      "execution_count": null,
      "outputs": [
        {
          "output_type": "stream",
          "text": [
            "Epoch: 1/110 epoch_duration: 58.47515344619751 discriminator_loss: 3.4325272727471132 generator_loss: 0.15137666270124894\n",
            "Epoch: 2/110 epoch_duration: 51.76664638519287 discriminator_loss: 2.152948626723045 generator_loss: 0.15246791089088935\n",
            "Epoch: 3/110 epoch_duration: 51.926719188690186 discriminator_loss: 1.9136226554202218 generator_loss: 1.4070659035291426\n",
            "Epoch: 4/110 epoch_duration: 52.23421597480774 discriminator_loss: 1.7309746974044375 generator_loss: 1.1448578676606855\n",
            "Epoch: 5/110 epoch_duration: 52.859795331954956 discriminator_loss: 1.713525224190492 generator_loss: 1.1038565666247637\n",
            "Epoch: 6/110 epoch_duration: 52.98182463645935 discriminator_loss: 1.6937687458136144 generator_loss: 1.1981719885116968\n",
            "Epoch: 7/110 epoch_duration: 53.256916999816895 discriminator_loss: 1.6492248185170002 generator_loss: 1.1810318369131823\n",
            "Epoch: 8/110 epoch_duration: 54.04560875892639 discriminator_loss: 1.6342749030162127 generator_loss: 1.1321178577904008\n",
            "Epoch: 9/110 epoch_duration: 53.976216077804565 discriminator_loss: 1.628323807930335 generator_loss: 1.149600771247831\n",
            "Epoch: 10/110 epoch_duration: 54.42182445526123 discriminator_loss: 1.6075419146790464 generator_loss: 1.1311720854196794\n",
            "Epoch: 11/110 epoch_duration: 54.64413547515869 discriminator_loss: 1.590111734520676 generator_loss: 1.1058737768067255\n",
            "Epoch: 12/110 epoch_duration: 55.388009786605835 discriminator_loss: 1.5761870650144725 generator_loss: 1.090071416563458\n",
            "Epoch: 13/110 epoch_duration: 55.37757706642151 discriminator_loss: 1.5452008741533654 generator_loss: 1.092252240731166\n",
            "Epoch: 14/110 epoch_duration: 55.77355599403381 discriminator_loss: 1.5008163790926974 generator_loss: 1.1140292663859506\n",
            "Epoch: 15/110 epoch_duration: 56.07057857513428 discriminator_loss: 1.4346905256438458 generator_loss: 1.0750451928529985\n",
            "Epoch: 16/110 epoch_duration: 56.292803049087524 discriminator_loss: 1.3736615505738137 generator_loss: 1.0914454791280959\n",
            "Epoch: 17/110 epoch_duration: 57.13604688644409 discriminator_loss: 1.3161520173407009 generator_loss: 1.0449539817805984\n",
            "Epoch: 18/110 epoch_duration: 57.032535791397095 discriminator_loss: 1.2949180496044648 generator_loss: 1.0102966117043781\n",
            "Epoch: 19/110 epoch_duration: 57.49924898147583 discriminator_loss: 1.249659251835611 generator_loss: 1.091812144487332\n",
            "Epoch: 20/110 epoch_duration: 57.852988719940186 discriminator_loss: 1.2444643878783934 generator_loss: 0.9597421734251528\n",
            "Epoch: 21/110 epoch_duration: 58.14936304092407 discriminator_loss: 1.209853368691909 generator_loss: 0.8909449402847861\n",
            "Epoch: 22/110 epoch_duration: 58.583545446395874 discriminator_loss: 1.1915499129865923 generator_loss: 0.9441973516064831\n",
            "Epoch: 23/110 epoch_duration: 59.721213817596436 discriminator_loss: 1.1589668610921273 generator_loss: 1.0203608608143961\n",
            "Epoch: 24/110 epoch_duration: 59.55107641220093 discriminator_loss: 1.0875213506639514 generator_loss: 0.6659219638149962\n",
            "Epoch: 25/110 epoch_duration: 59.81462359428406 discriminator_loss: 1.1222876323721347 generator_loss: 0.9409226840441554\n",
            "Epoch: 26/110 epoch_duration: 60.101611375808716 discriminator_loss: 1.0477112607759798 generator_loss: 1.2071578357464228\n",
            "Epoch: 27/110 epoch_duration: 60.71979522705078 discriminator_loss: 0.977535673759432 generator_loss: 0.42833355457609534\n",
            "Epoch: 28/110 epoch_duration: 60.991010904312134 discriminator_loss: 0.9924288605713946 generator_loss: 0.45513348322775626\n",
            "Epoch: 29/110 epoch_duration: 61.72126126289368 discriminator_loss: 0.9083729077799197 generator_loss: 0.9645183882079064\n",
            "Epoch: 30/110 epoch_duration: 62.97235369682312 discriminator_loss: 0.8384140864348947 generator_loss: 1.4514720550714395\n",
            "Epoch: 31/110 epoch_duration: 62.90301036834717 discriminator_loss: 0.9386583730482903 generator_loss: 1.0840576573824272\n",
            "Epoch: 32/110 epoch_duration: 63.150059938430786 discriminator_loss: 0.8993419525969741 generator_loss: 1.1770784652385957\n",
            "Epoch: 33/110 epoch_duration: 63.33888101577759 discriminator_loss: 0.857661337321067 generator_loss: 1.0058004651059451\n",
            "Epoch: 34/110 epoch_duration: 63.89835739135742 discriminator_loss: 0.9269705687959989 generator_loss: 1.1124497100583508\n",
            "Epoch: 35/110 epoch_duration: 64.30938696861267 discriminator_loss: 0.8657517115720826 generator_loss: 1.0240746393608742\n",
            "Epoch: 36/110 epoch_duration: 64.73358225822449 discriminator_loss: 0.9163504081308587 generator_loss: 0.6446596861331382\n",
            "Epoch: 37/110 epoch_duration: 65.49671864509583 discriminator_loss: 0.7519051208136938 generator_loss: 0.7589141426719407\n",
            "Epoch: 38/110 epoch_duration: 66.3826789855957 discriminator_loss: 0.8078473979830105 generator_loss: 0.7578068497097199\n",
            "Epoch: 39/110 epoch_duration: 67.4447922706604 discriminator_loss: 0.8279157172347236 generator_loss: 1.255175137048603\n",
            "Epoch: 40/110 epoch_duration: 66.79064989089966 discriminator_loss: 0.8628311041010241 generator_loss: 0.8776751651078399\n",
            "Epoch: 41/110 epoch_duration: 67.39953255653381 discriminator_loss: 0.7808279990035499 generator_loss: 0.609494166669603\n",
            "Epoch: 42/110 epoch_duration: 68.00421071052551 discriminator_loss: 0.8672694903917801 generator_loss: 1.165044478690013\n",
            "Epoch: 43/110 epoch_duration: 68.71239042282104 discriminator_loss: 0.7562770495016096 generator_loss: 0.8070451550516021\n",
            "Epoch: 44/110 epoch_duration: 69.33945202827454 discriminator_loss: 0.7710103230256364 generator_loss: 0.5094863510368248\n",
            "Epoch: 45/110 epoch_duration: 69.96982622146606 discriminator_loss: 0.7545008560021719 generator_loss: 0.784314173588163\n",
            "Epoch: 46/110 epoch_duration: 70.50099420547485 discriminator_loss: 0.7778451468031375 generator_loss: 0.8679779994611939\n",
            "Epoch: 47/110 epoch_duration: 71.15002870559692 discriminator_loss: 0.7900772356909788 generator_loss: 0.9904799595172716\n",
            "Epoch: 48/110 epoch_duration: 71.77418065071106 discriminator_loss: 0.759920733115182 generator_loss: 1.1396627224918106\n",
            "Epoch: 49/110 epoch_duration: 72.34208822250366 discriminator_loss: 0.762946914961068 generator_loss: 0.695686870887398\n",
            "Epoch: 50/110 epoch_duration: 74.59027457237244 discriminator_loss: 0.7367545280000593 generator_loss: 1.2571704197420268\n",
            "Epoch: 51/110 epoch_duration: 73.51793599128723 discriminator_loss: 0.7851819537707374 generator_loss: 1.0482014337650094\n",
            "Epoch: 52/110 epoch_duration: 74.31685042381287 discriminator_loss: 0.759242716189633 generator_loss: 0.7319155022279065\n",
            "Epoch: 53/110 epoch_duration: 74.93962335586548 discriminator_loss: 0.7308610610058929 generator_loss: 1.0392191224436984\n",
            "Epoch: 54/110 epoch_duration: 75.5963442325592 discriminator_loss: 0.7312960037085999 generator_loss: 0.6033180109862015\n",
            "Epoch: 55/110 epoch_duration: 76.19012117385864 discriminator_loss: 0.7365281814112304 generator_loss: 1.0499923664471533\n",
            "Epoch: 56/110 epoch_duration: 76.96178865432739 discriminator_loss: 0.7090494581538006 generator_loss: 1.3199078029929063\n",
            "Epoch: 57/110 epoch_duration: 77.53467679023743 discriminator_loss: 0.7537119038816955 generator_loss: 1.1098112729378045\n",
            "Epoch: 58/110 epoch_duration: 78.26682639122009 discriminator_loss: 0.7262824078082529 generator_loss: 0.6623671769630164\n",
            "Epoch: 59/110 epoch_duration: 78.8566062450409 discriminator_loss: 0.6756464591663744 generator_loss: 0.534008414276605\n",
            "Epoch: 60/110 epoch_duration: 80.10353779792786 discriminator_loss: 0.6593750534244837 generator_loss: 1.354867581373606\n",
            "Epoch: 61/110 epoch_duration: 80.3886091709137 discriminator_loss: 0.7047866260091591 generator_loss: 1.3124700266008194\n",
            "Epoch: 62/110 epoch_duration: 81.10047149658203 discriminator_loss: 0.7931370060954593 generator_loss: 0.8079279599647619\n",
            "Epoch: 63/110 epoch_duration: 83.97138166427612 discriminator_loss: 0.7478738805263215 generator_loss: 0.8162016511584321\n",
            "Epoch: 64/110 epoch_duration: 82.53888869285583 discriminator_loss: 0.7478595014788911 generator_loss: 1.2256967967821875\n",
            "Epoch: 65/110 epoch_duration: 83.1557412147522 discriminator_loss: 0.72481940786203 generator_loss: 1.0875512188555212\n",
            "Epoch: 66/110 epoch_duration: 83.70491433143616 discriminator_loss: 0.6881080493569757 generator_loss: 1.1276963993620415\n",
            "Epoch: 67/110 epoch_duration: 84.69399809837341 discriminator_loss: 0.7177907070881313 generator_loss: 1.0429877164280121\n",
            "Epoch: 68/110 epoch_duration: 85.62310576438904 discriminator_loss: 0.6793894517498139 generator_loss: 0.9691641490118434\n",
            "Epoch: 69/110 epoch_duration: 86.43566393852234 discriminator_loss: 0.6716315768913835 generator_loss: 1.3330411697542852\n",
            "Epoch: 70/110 epoch_duration: 87.28987336158752 discriminator_loss: 0.681765240107655 generator_loss: 0.918634745457536\n",
            "Epoch: 71/110 epoch_duration: 88.19437289237976 discriminator_loss: 0.704288329801753 generator_loss: 1.261395992886307\n",
            "Epoch: 72/110 epoch_duration: 89.00939393043518 discriminator_loss: 0.6785548711911991 generator_loss: 1.371206867038949\n",
            "Epoch: 73/110 epoch_duration: 89.36057138442993 discriminator_loss: 0.6979515189623349 generator_loss: 1.0926474206245098\n",
            "Epoch: 74/110 epoch_duration: 90.55985975265503 discriminator_loss: 0.7134279621382936 generator_loss: 1.2375178595718284\n",
            "Epoch: 75/110 epoch_duration: 90.96030521392822 discriminator_loss: 0.7249675823264142 generator_loss: 0.948444321556574\n",
            "Epoch: 76/110 epoch_duration: 92.19080519676208 discriminator_loss: 0.6747879195066854 generator_loss: 1.3301397887114277\n",
            "Epoch: 77/110 epoch_duration: 93.92755722999573 discriminator_loss: 0.6603186237068576 generator_loss: 1.3451934680183473\n",
            "Epoch: 78/110 epoch_duration: 93.94637989997864 discriminator_loss: 0.7106568428058909 generator_loss: 1.3813128784999378\n",
            "Epoch: 79/110 epoch_duration: 97.0199625492096 discriminator_loss: 0.6819908881408727 generator_loss: 1.3774892999034407\n",
            "Epoch: 80/110 epoch_duration: 95.70012402534485 discriminator_loss: 0.6621039476699363 generator_loss: 1.2381528284814622\n",
            "Epoch: 81/110 epoch_duration: 96.59878444671631 discriminator_loss: 0.6865304884755522 generator_loss: 1.0233232617839916\n",
            "Epoch: 82/110 epoch_duration: 97.40608358383179 discriminator_loss: 0.6871165174943132 generator_loss: 1.0267268218275192\n"
          ],
          "name": "stdout"
        }
      ]
    },
    {
      "cell_type": "code",
      "metadata": {
        "id": "V-pddsScCkZQ",
        "outputId": "db1b3cbe-0f32-4605-e50f-6647b09cfb46",
        "colab": {
          "base_uri": "https://localhost:8080/",
          "height": 590
        }
      },
      "source": [
        "losses=h5py.File('./losses_list_'+str(dcgan.text_input_dim)+'.h5','r')\n",
        "d_loss_list=losses['discriminator']\n",
        "d_loss_list=np.array(d_loss_list)\n",
        "d_loss_list=d_loss_list.tolist()\n",
        "g_loss_list=losses['generator']\n",
        "g_loss_list=np.array(g_loss_list)\n",
        "g_loss_list=g_loss_list.tolist()\n",
        "\n",
        "plt.figure()\n",
        "plt.title('discriminator_loss')\n",
        "plt.xlabel('epochs')\n",
        "plt.ylabel('loss')\n",
        "plt.plot(d_loss_list)\n",
        "\n",
        "plt.figure()\n",
        "plt.title('generator_loss')\n",
        "plt.xlabel('epochs')\n",
        "plt.ylabel('loss')\n",
        "plt.plot(g_loss_list)"
      ],
      "execution_count": null,
      "outputs": [
        {
          "output_type": "execute_result",
          "data": {
            "text/plain": [
              "[<matplotlib.lines.Line2D at 0x7f07ebdfd438>]"
            ]
          },
          "metadata": {
            "tags": []
          },
          "execution_count": 7
        },
        {
          "output_type": "display_data",
          "data": {
            "image/png": "[encoded data removed]",
            "text/plain": [
              "<Figure size 432x288 with 1 Axes>"
            ]
          },
          "metadata": {
            "tags": [],
            "needs_background": "light"
          }
        },
        {
          "output_type": "display_data",
          "data": {
            "image/png": "[encoded data removed]",
            "text/plain": [
              "<Figure size 432x288 with 1 Axes>"
            ]
          },
          "metadata": {
            "tags": [],
            "needs_background": "light"
          }
        }
      ]
    },
    {
      "cell_type": "markdown",
      "metadata": {
        "id": "HVjJm390w_Gc"
      },
      "source": [
        "Evaluation"
      ]
    },
    {
      "cell_type": "code",
      "metadata": {
        "id": "6Ff_HCzQv5fR",
        "outputId": "73ff6a14-fe20-4726-a2ae-e2a902ac2194",
        "colab": {
          "base_uri": "https://localhost:8080/",
          "height": 34
        }
      },
      "source": [
        "test_imgs=h5py.File('./test_data.h5','r')\n",
        "imgs=test_imgs['imgs']\n",
        "imgs=np.array(imgs)\n",
        "print(imgs.shape)\n",
        "names_in=open('./test_img_names.pkl','rb')\n",
        "names=pickle.load(names_in)\n",
        "    \n",
        "with open(json_file_path,'r') as j:\n",
        "    caps=json.loads(j.read())\n",
        "    \n",
        "captions=[]\n",
        "for i in range(len(names)):\n",
        "    captions.append(caps[names[i]])\n",
        "    \n",
        "if not os.path.exists('./skipthought_vectors_test.pkl'):\n",
        "    model=skipthoughts.load_model()\n",
        "    vectors=skipthoughts.encode(model,captions)\n",
        "    with open('skipthought_vectors_test.pkl','wb') as f:\n",
        "        pickle.dump(vectors,f)\n",
        "else:\n",
        "    with open('skipthought_vectors_test.pkl','rb') as f:\n",
        "        vectors=pickle.load(f)"
      ],
      "execution_count": null,
      "outputs": [
        {
          "output_type": "stream",
          "text": [
            "(2500, 64, 64, 3)\n"
          ],
          "name": "stdout"
        }
      ]
    },
    {
      "cell_type": "code",
      "metadata": {
        "id": "4yPX52V6v8Sm"
      },
      "source": [
        "dcgan.generator.load_weights(model_dir_path+'/dc_gan-generator'+str(dcgan.text_input_dim)+'-weights.h5')"
      ],
      "execution_count": null,
      "outputs": []
    },
    {
      "cell_type": "code",
      "metadata": {
        "id": "r-vnj26yv-Vd",
        "outputId": "d9ec5fd1-9c73-4adf-fc2e-41e539d37a4d",
        "colab": {
          "base_uri": "https://localhost:8080/",
          "height": 34
        }
      },
      "source": [
        "batch_size=100\n",
        "n_batches_test=imgs.shape[0]//batch_size\n",
        "gen_imgs=np.zeros(imgs.shape)\n",
        "for i in range(n_batches_test):\n",
        "    with tf.device('/gpu:0'):\n",
        "        gen=dcgan.test(vectors[i*batch_size:(i+1)*batch_size],batch_size)\n",
        "        gen_imgs[i*batch_size:(i+1)*batch_size]=gen\n",
        "\n",
        "true_imgs=np.zeros((imgs.shape[0],160,160,3))\n",
        "pred_imgs=np.zeros(true_imgs.shape)\n",
        "\n",
        "for i in range(true_imgs.shape[0]):\n",
        "    img=imgs[i]\n",
        "    img=resize(img.astype(np.float),(160,160))\n",
        "    true_imgs[i,:,:,:]=img\n",
        "\n",
        "    img=gen_imgs[i]\n",
        "    img=resize(img.astype(np.float),(160,160))\n",
        "    pred_imgs[i,:,:,:]=img\n",
        "print(true_imgs.shape,pred_imgs.shape)"
      ],
      "execution_count": null,
      "outputs": [
        {
          "output_type": "stream",
          "text": [
            "(2500, 160, 160, 3) (2500, 160, 160, 3)\n"
          ],
          "name": "stdout"
        }
      ]
    },
    {
      "cell_type": "code",
      "metadata": {
        "id": "AOZVaWP-wAfz",
        "outputId": "0bd24eb3-fd41-4099-f3c5-571ff30cc760",
        "colab": {
          "base_uri": "https://localhost:8080/",
          "height": 88
        }
      },
      "source": [
        "facenet=load_model('facenet_keras.h5')\n",
        "test_features=np.zeros((2500,128))\n",
        "pred_features=np.zeros((2500,128))\n",
        "for i in range(n_batches_test):\n",
        "    with tf.device('/gpu:0'):\n",
        "        feat=facenet.predict_on_batch(true_imgs[i*batch_size:(i+1)*batch_size])\n",
        "        test_features[i*batch_size:(i+1)*batch_size]=feat\n",
        "        feat=facenet.predict_on_batch(pred_imgs[i*batch_size:(i+1)*batch_size])[0]\n",
        "        pred_features[i*batch_size:(i+1)*batch_size]=feat\n",
        "print(pred_features.shape,test_features.shape)"
      ],
      "execution_count": null,
      "outputs": [
        {
          "output_type": "stream",
          "text": [
            "/usr/local/lib/python3.6/dist-packages/keras/engine/saving.py:341: UserWarning: No training configuration found in save file: the model was *not* compiled. Compile it manually.\n",
            "  warnings.warn('No training configuration found in save file: '\n"
          ],
          "name": "stderr"
        },
        {
          "output_type": "stream",
          "text": [
            "(2500, 128) (2500, 128)\n"
          ],
          "name": "stdout"
        }
      ]
    },
    {
      "cell_type": "code",
      "metadata": {
        "id": "dKqrT6sIwCWJ",
        "outputId": "daa1a0ee-9695-4136-c065-891f61359326",
        "colab": {
          "base_uri": "https://localhost:8080/",
          "height": 34
        }
      },
      "source": [
        "fss=0\n",
        "for i in range(len(pred_features)):\n",
        "    fss+=1-spatial.distance.cosine(pred_features[i],test_features[i])\n",
        "print(fss/len(pred_features))"
      ],
      "execution_count": null,
      "outputs": [
        {
          "output_type": "stream",
          "text": [
            "0.29302692120087837\n"
          ],
          "name": "stdout"
        }
      ]
    },
    {
      "cell_type": "code",
      "metadata": {
        "id": "WuTEbGW2rDE3",
        "outputId": "91424390-4491-4ed0-a1b2-6ef50ee66e9d",
        "colab": {
          "base_uri": "https://localhost:8080/",
          "height": 34
        }
      },
      "source": [
        "fsd=0\n",
        "for i in range(len(pred_features)):\n",
        "    dist=spatial.distance.minkowski(pred_features[i],test_features[i],p=1)\n",
        "    fsd+=dist\n",
        "print(fsd/len(pred_features))"
      ],
      "execution_count": null,
      "outputs": [
        {
          "output_type": "stream",
          "text": [
            "71.18329485432844\n"
          ],
          "name": "stdout"
        }
      ]
    },
    {
      "cell_type": "markdown",
      "metadata": {
        "id": "SBI9atQ-w5HF"
      },
      "source": [
        "Test generation"
      ]
    },
    {
      "cell_type": "code",
      "metadata": {
        "id": "b7rfJHNKbz86",
        "colab": {
          "base_uri": "https://localhost:8080/",
          "height": 122
        },
        "outputId": "044b8a33-e890-4b02-b188-366d0e6cb932"
      },
      "source": [
        "dcgan.generator.load_weights(model_dir_path+'/dc_gan-generator'+str(dcgan.text_input_dim)+'-weights.h5')\n",
        "skipthought_model=skipthoughts.load_model()"
      ],
      "execution_count": null,
      "outputs": [
        {
          "output_type": "stream",
          "text": [
            "Loading model parameters...\n",
            "Compiling encoders...\n"
          ],
          "name": "stdout"
        },
        {
          "output_type": "stream",
          "text": [
            "WARNING (theano.tensor.blas): We did not find a dynamic library in the library_dir of the library we use for blas. If you use ATLAS, make sure to compile it with dynamics library.\n"
          ],
          "name": "stderr"
        },
        {
          "output_type": "stream",
          "text": [
            "Loading tables...\n",
            "Packing up...\n"
          ],
          "name": "stdout"
        }
      ]
    },
    {
      "cell_type": "code",
      "metadata": {
        "id": "9_d7sY_jfbIe",
        "colab": {
          "base_uri": "https://localhost:8080/",
          "height": 336
        },
        "outputId": "85e3f330-78d3-41c5-d871-759df3612f54"
      },
      "source": [
        "caption=['The woman has high cheekbones. She has wavy hair. She has arched eyebrows. The young attractive woman has heavy makeup. She’s wearing lipstick.']\n",
        "dcgan.generate_image_from_text(caption,skipthought_model)"
      ],
      "execution_count": null,
      "outputs": [
        {
          "output_type": "stream",
          "text": [
            "1\n",
            "\n",
            "30\n",
            "Caption: The woman has high cheekbones. She has wavy hair. She has arched eyebrows. The young attractive woman has heavy makeup. She’s wearing lipstick.\n"
          ],
          "name": "stdout"
        },
        {
          "output_type": "display_data",
          "data": {
            "image/png": "[encoded data removed]",
            "text/plain": [
              "<Figure size 432x288 with 1 Axes>"
            ]
          },
          "metadata": {
            "tags": [],
            "needs_background": "light"
          }
        }
      ]
    }
  ]
}